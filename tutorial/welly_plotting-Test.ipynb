{
 "cells": [
  {
   "cell_type": "markdown",
   "metadata": {},
   "source": [
    "## Well plotting\n",
    "\n",
    "Some preliminaries..."
   ]
  },
  {
   "cell_type": "code",
   "execution_count": null,
   "metadata": {
    "collapsed": false
   },
   "outputs": [],
   "source": [
    "import numpy as np\n",
    "import matplotlib.pyplot as plt\n",
    "%matplotlib inline\n",
    "import welly\n",
    "welly.__version__"
   ]
  },
  {
   "cell_type": "code",
   "execution_count": null,
   "metadata": {
    "collapsed": false
   },
   "outputs": [],
   "source": [
    "import os\n",
    "env = %env"
   ]
  },
  {
   "cell_type": "markdown",
   "metadata": {},
   "source": [
    "## Load a well and add deviation and a striplog\n",
    "\n",
    "Use the `from_las()` method to load a well by passing a filename as a `str`. \n",
    "\n",
    "This is really just a wrapper for `lasio` but instantiates a `Header`, `Curve`s, etc."
   ]
  },
  {
   "cell_type": "code",
   "execution_count": null,
   "metadata": {
    "collapsed": false
   },
   "outputs": [],
   "source": [
    "from welly import Well"
   ]
  },
  {
   "cell_type": "code",
   "execution_count": null,
   "metadata": {
    "collapsed": false
   },
   "outputs": [],
   "source": [
    "w = Well.from_las('P-130_out.LAS')"
   ]
  },
  {
   "cell_type": "code",
   "execution_count": null,
   "metadata": {
    "collapsed": false
   },
   "outputs": [],
   "source": [
    "from striplog import Legend, Striplog\n",
    "legend = Legend.builtin('NSDOE')\n",
    "strip = Striplog.from_image('P-130_25_2618.png', 25, 2618, legend=legend)\n",
    "w.data['strip'] = strip"
   ]
  },
  {
   "cell_type": "markdown",
   "metadata": {},
   "source": [
    "### Add deviation and form legend"
   ]
  },
  {
   "cell_type": "code",
   "execution_count": null,
   "metadata": {
    "collapsed": false
   },
   "outputs": [],
   "source": [
    "dev = np.loadtxt('P-130_deviation_survey.csv', delimiter=',', skiprows=1)\n",
    "w.location.add_deviation(dev[:, :3], td=2618.3)"
   ]
  },
  {
   "cell_type": "code",
   "execution_count": null,
   "metadata": {
    "collapsed": false
   },
   "outputs": [],
   "source": [
    "curve_legend_csv = \"\"\"colour,lw,xscale,curve mnemonic\n",
    "darkgreen,1.0,linear,GR\n",
    "#FF69B4,1.0,linear,SP\n",
    "#888888,1.0,log,M2R1\n",
    "#666666,1.0,log,M2R2\n",
    "#444444,1.0,log,M2R3\n",
    "#222222,1.0,log,M2R6\n",
    "#000000,1.0,log,M2R9\n",
    "blue,1.0,linear,DT\n",
    "#ffff00,2.0,linear,DTS\n",
    "#8C1717,1.0,linear,DPHI_SAN\n",
    "#7491A3,1.0,linear,NPHI_SAN\n",
    "\"\"\"\n",
    "curve_legend = Legend.from_csv(curve_legend_csv)"
   ]
  },
  {
   "cell_type": "code",
   "execution_count": null,
   "metadata": {
    "collapsed": true
   },
   "outputs": [],
   "source": [
    "complete_legend = legend + curve_legend"
   ]
  },
  {
   "cell_type": "markdown",
   "metadata": {},
   "source": [
    "### Plot"
   ]
  },
  {
   "cell_type": "code",
   "execution_count": null,
   "metadata": {
    "collapsed": false
   },
   "outputs": [],
   "source": [
    "tracks = ['MD', \n",
    "          'strip', \n",
    "          ['GR','SP'], \n",
    "          'GR',\n",
    "          'TVD',\n",
    "          ['M2R1','M2R2','M2R3','M2R6','M2R9'],\n",
    "          ['NPHI_SAN','DPHI_SAN'],\n",
    "          ['DT', 'DTS'],\n",
    "          'MD']"
   ]
  },
  {
   "cell_type": "code",
   "execution_count": null,
   "metadata": {
    "collapsed": false
   },
   "outputs": [],
   "source": [
    "% matplotlib inline\n",
    "w.plot(tracks=tracks, legend=complete_legend)"
   ]
  },
  {
   "cell_type": "code",
   "execution_count": null,
   "metadata": {
    "collapsed": true
   },
   "outputs": [],
   "source": []
  },
  {
   "cell_type": "code",
   "execution_count": null,
   "metadata": {
    "collapsed": true
   },
   "outputs": [],
   "source": []
  }
 ],
 "metadata": {
  "kernelspec": {
   "display_name": "Python 3",
   "language": "python",
   "name": "python3"
  },
  "language_info": {
   "codemirror_mode": {
    "name": "ipython",
    "version": 3
   },
   "file_extension": ".py",
   "mimetype": "text/x-python",
   "name": "python",
   "nbconvert_exporter": "python",
   "pygments_lexer": "ipython3",
   "version": "3.5.1"
  }
 },
 "nbformat": 4,
 "nbformat_minor": 0
}
